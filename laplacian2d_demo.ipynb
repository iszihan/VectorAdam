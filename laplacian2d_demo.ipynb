{
 "cells": [
  {
   "cell_type": "markdown",
   "id": "6c6d82d1",
   "metadata": {},
   "source": [
    "VectorAdam for Rotation Equivariant Geometry Optimization\n",
    "======================================"
   ]
  },
  {
   "cell_type": "markdown",
   "id": "9b2e7d28",
   "metadata": {},
   "source": [
    "This is an example on how to use VectorAdam for Laplacian smoothing in 2D."
   ]
  },
  {
   "cell_type": "code",
   "execution_count": 1,
   "id": "7dcca9d7",
   "metadata": {},
   "outputs": [],
   "source": [
    "import numpy as np\n",
    "import matplotlib.pyplot as plt\n",
    "import torch\n",
    "import seaborn as sns\n",
    "import math\n",
    "from util import *\n",
    "from vectoradam import * "
   ]
  },
  {
   "cell_type": "markdown",
   "id": "61da8422",
   "metadata": {},
   "source": [
    "# Laplacian Smoothing in 2D "
   ]
  },
  {
   "cell_type": "markdown",
   "id": "bb13308f",
   "metadata": {},
   "source": [
    "### 1. Create the mesh."
   ]
  },
  {
   "cell_type": "code",
   "execution_count": 2,
   "id": "6c17bdfd",
   "metadata": {},
   "outputs": [
    {
     "data": {
      "image/png": "[encoded data removed]",
      "text/plain": [
       "<Figure size 360x360 with 1 Axes>"
      ]
     },
     "metadata": {
      "needs_background": "light"
     },
     "output_type": "display_data"
    }
   ],
   "source": [
    "n = 12\n",
    "v1,l1 = create_circle(n_points=n, noise_level=0)\n",
    "v2,l2 = create_circle(n_points=n, noise_level=0)\n",
    "eps = 1\n",
    "x_lim = [np.min(v1[:,0]) - eps, np.max(v1[:,0]) + eps]\n",
    "y_lim = [np.min(v1[:,1]) - eps, np.max(v1[:,1]) + eps]\n",
    "\n",
    "# keep track of meshes for later plotting\n",
    "data= {}\n",
    "data['original mesh'] = (v1, l1)\n",
    "\n",
    "# plot the original mesh \n",
    "plot_mesh2d(v1,l1,x_lim=x_lim, y_lim=y_lim, showfig=True)"
   ]
  },
  {
   "cell_type": "code",
   "execution_count": 3,
   "id": "a71f4b9a",
   "metadata": {},
   "outputs": [],
   "source": [
    "# Set optimizer hyperparameters\n",
    "lr = 0.5\n",
    "betas = (0.9, 0.999)\n",
    "eps = 1e-8"
   ]
  },
  {
   "cell_type": "code",
   "execution_count": 4,
   "id": "13b70c02",
   "metadata": {},
   "outputs": [],
   "source": [
    "# Torch the arrays\n",
    "v1 = torch.from_numpy(v1).to(torch.float32).cuda()\n",
    "l1 = torch.from_numpy(l1).cuda()\n",
    "v2 = torch.from_numpy(v2).to(torch.float32).cuda()\n",
    "l2 = torch.from_numpy(l2).cuda()\n",
    "v1.requires_grad = True\n",
    "v2.requires_grad = True"
   ]
  },
  {
   "cell_type": "code",
   "execution_count": 5,
   "id": "4a335c05",
   "metadata": {},
   "outputs": [],
   "source": [
    "# Initialize VectorAdam optimizers\n",
    "regadam = VectorAdam([{'params': v1, 'axis': None}], lr=lr, betas=betas, eps=eps)\n",
    "vadam = VectorAdam([{'params': v2, 'axis': -1}], lr=lr, betas=betas, eps=eps)"
   ]
  },
  {
   "cell_type": "markdown",
   "id": "3ac43886",
   "metadata": {},
   "source": [
    "### 2. One Optimization step with Adam"
   ]
  },
  {
   "cell_type": "code",
   "execution_count": 6,
   "id": "965eb3cc",
   "metadata": {},
   "outputs": [],
   "source": [
    "# One optimization step with Adam\n",
    "# Laplacian smoothing loss\n",
    "regadam.zero_grad()\n",
    "vbf = v1.detach().cpu()\n",
    "L1 = laplacian_uniform_2d(v1,l1)\n",
    "loss1 = (v1 * (L1 @ v1)).mean()\n",
    "loss1.backward()\n",
    "regadam.step()\n",
    "vaf = v1\n",
    "adam_step = vaf-vbf.cuda()"
   ]
  },
  {
   "cell_type": "code",
   "execution_count": 7,
   "id": "6271ddd8",
   "metadata": {},
   "outputs": [
    {
     "data": {
      "image/png": "[encoded data removed]",
      "text/plain": [
       "<Figure size 360x360 with 1 Axes>"
      ]
     },
     "metadata": {
      "needs_background": "light"
     },
     "output_type": "display_data"
    },
    {
     "data": {
      "image/png": "[encoded data removed]",
      "text/plain": [
       "<Figure size 360x360 with 1 Axes>"
      ]
     },
     "metadata": {
      "needs_background": "light"
     },
     "output_type": "display_data"
    }
   ],
   "source": [
    "# Save the results from Adam\n",
    "data[\"radam grad\"] = -adam_step.detach().cpu().numpy()\n",
    "data[\"original grad\"] = v1.grad.detach().cpu().numpy()\n",
    "data[\"radam mesh step1\"] = (v1.detach().cpu().numpy(), l1.detach().cpu().numpy())\n",
    "\n",
    "fig, ax = plot_mesh2d(data['original mesh'][0], data['original mesh'][1], \n",
    "                      x_lim = x_lim,\n",
    "                      y_lim = y_lim,\n",
    "                      return_ax = True)\n",
    "ax.quiver(data['original mesh'][0][:,0], data['original mesh'][0][:,1], \n",
    "          -data[\"original grad\"][:,0], -data[\"original grad\"][:,1], scale=1.0, color=\"#EC8A19\", width=0.015)\n",
    "ax.quiver(data['original mesh'][0][:,0], data['original mesh'][0][:,1], \n",
    "          -data[\"radam grad\"][:,0], -data[\"radam grad\"][:,1], scale=2.5, color=\"#226843\", width=0.015)\n",
    "plt.show()\n",
    "\n",
    "# step 1 image \n",
    "data[f'radam mesh step1'] = (v1.detach().cpu().numpy(), l1.detach().cpu().numpy())\n",
    "plot_mesh2d(data[f'radam mesh step1'][0], data[f'radam mesh step1'][1], \n",
    "            x_lim = x_lim,\n",
    "            y_lim = y_lim,\n",
    "            showfig=True)"
   ]
  },
  {
   "cell_type": "markdown",
   "id": "e4fcbc85",
   "metadata": {},
   "source": [
    "### 3. One optimization step with VectorAdam"
   ]
  },
  {
   "cell_type": "code",
   "execution_count": 8,
   "id": "55d483c7",
   "metadata": {},
   "outputs": [],
   "source": [
    "vadam.zero_grad()\n",
    "vbf = v2.detach().cpu()\n",
    "L2 = laplacian_uniform_2d(v2,l2)\n",
    "loss2 = (v2 * (L2 @ v2)).mean()\n",
    "loss2.backward()\n",
    "vadam.step()\n",
    "vaf = v2\n",
    "vadam_step = vaf-vbf.cuda()\n",
    "data[\"vadam grad\"] = -vadam_step.detach().cpu().numpy()\n",
    "data[\"vadam mesh step1\"] = (v2.detach().cpu().numpy(), l2.detach().cpu().numpy())"
   ]
  },
  {
   "cell_type": "code",
   "execution_count": 9,
   "id": "51001e1e",
   "metadata": {},
   "outputs": [
    {
     "data": {
      "image/png": "[encoded data removed]",
      "text/plain": [
       "<Figure size 360x360 with 1 Axes>"
      ]
     },
     "metadata": {
      "needs_background": "light"
     },
     "output_type": "display_data"
    },
    {
     "data": {
      "image/png": "[encoded data removed]",
      "text/plain": [
       "<Figure size 360x360 with 1 Axes>"
      ]
     },
     "metadata": {
      "needs_background": "light"
     },
     "output_type": "display_data"
    }
   ],
   "source": [
    "# plot \n",
    "# gradient image\n",
    "fig, ax = plot_mesh2d(data['original mesh'][0], data['original mesh'][1], \n",
    "                      x_lim = x_lim,\n",
    "                      y_lim = y_lim,\n",
    "                      return_ax = True)\n",
    "ax.quiver(data['original mesh'][0][:,0], data['original mesh'][0][:,1], \n",
    "          -data[\"original grad\"][:,0], -data[\"original grad\"][:,1], scale=1.0, color=\"#EC8A19\", width=0.015)\n",
    "ax.quiver(data['original mesh'][0][:,0], data['original mesh'][0][:,1], \n",
    "          -data[\"vadam grad\"][:,0], -data[\"vadam grad\"][:,1], scale=2.5, color=\"#2A63AD\", width=0.015)\n",
    "plt.show()\n",
    "\n",
    "# step 1 image \n",
    "data[f'vadam mesh step1'] = (v2.detach().cpu().numpy(), l2.detach().cpu().numpy())\n",
    "plot_mesh2d(data[f'vadam mesh step1'][0], data[f'vadam mesh step1'][1], \n",
    "            x_lim = x_lim,\n",
    "            y_lim = y_lim,\n",
    "            showfig=True)"
   ]
  },
  {
   "cell_type": "markdown",
   "id": "a12c6a36",
   "metadata": {},
   "source": [
    "### 4. Five optimization steps with Adam"
   ]
  },
  {
   "cell_type": "code",
   "execution_count": 10,
   "id": "cecb3fe3",
   "metadata": {},
   "outputs": [
    {
     "name": "stderr",
     "output_type": "stream",
     "text": [
      "100%|██████████| 5/5 [00:00<00:00, 393.43it/s]\n"
     ]
    },
    {
     "data": {
      "image/png": "[encoded data removed]",
      "text/plain": [
       "<Figure size 360x360 with 1 Axes>"
      ]
     },
     "metadata": {
      "needs_background": "light"
     },
     "output_type": "display_data"
    }
   ],
   "source": [
    "# optimization loop\n",
    "# regular adam\n",
    "steps = 5\n",
    "from tqdm import tqdm\n",
    "for i in tqdm(range(steps)):\n",
    "    regadam.zero_grad()\n",
    "    #laplacian loss\n",
    "    L1 = laplacian_uniform_2d(v1,l1)\n",
    "    loss1 = (v1 * (L1 @ v1)).mean()\n",
    "    loss1.backward()\n",
    "    regadam.step()\n",
    "\n",
    "data[f'radam mesh step{steps}'] = (v1.detach().cpu().numpy(), l1.detach().cpu().numpy())\n",
    "plot_mesh2d(data[f'radam mesh step{steps}'][0], data[f'radam mesh step{steps}'][1], \n",
    "            x_lim = x_lim,\n",
    "            y_lim = y_lim,\n",
    "            showfig=True)"
   ]
  },
  {
   "cell_type": "code",
   "execution_count": 11,
   "id": "0cdd17d2",
   "metadata": {},
   "outputs": [
    {
     "name": "stderr",
     "output_type": "stream",
     "text": [
      "100%|██████████| 5/5 [00:00<00:00, 442.19it/s]\n"
     ]
    },
    {
     "data": {
      "image/png": "[encoded data removed]",
      "text/plain": [
       "<Figure size 360x360 with 1 Axes>"
      ]
     },
     "metadata": {
      "needs_background": "light"
     },
     "output_type": "display_data"
    }
   ],
   "source": [
    "# vector adam\n",
    "steps = 5\n",
    "for i in tqdm(range(steps)):\n",
    "    vadam.zero_grad()\n",
    "    #laplacian loss\n",
    "    L2 = laplacian_uniform_2d(v2,l2)\n",
    "    loss2 = (v2 * (L2 @ v2)).mean()\n",
    "    loss2.backward()\n",
    "    vadam.step()\n",
    "\n",
    "data[f'vadam mesh step{steps}'] = (v2.detach().cpu().numpy(), l2.detach().cpu().numpy())\n",
    "plot_mesh2d(data[f'vadam mesh step{steps}'][0], data[f'vadam mesh step{steps}'][1], \n",
    "            x_lim = x_lim,\n",
    "            y_lim = y_lim,\n",
    "            showfig=True)"
   ]
  }
 ],
 "metadata": {
  "kernelspec": {
   "display_name": "Python 3",
   "language": "python",
   "name": "python3"
  },
  "language_info": {
   "codemirror_mode": {
    "name": "ipython",
    "version": 3
   },
   "file_extension": ".py",
   "mimetype": "text/x-python",
   "name": "python",
   "nbconvert_exporter": "python",
   "pygments_lexer": "ipython3",
   "version": "3.8.13"
  }
 },
 "nbformat": 4,
 "nbformat_minor": 5
}
